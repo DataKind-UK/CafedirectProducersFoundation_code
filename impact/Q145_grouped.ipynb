{
 "cells": [
  {
   "cell_type": "markdown",
   "metadata": {},
   "source": [
    "### Grouping information sources into categories\n",
    "\n",
    "Question 145 listed 14 information sources, and correspondents could check whichever they considered their most valuable sources.\n",
    "\n",
    "We decided to group the information sources into the same 6 categories as question 129. This notebook processes the data from Question 145, makes a plot of results, and outputs a spreadsheet with the categorised responses for each subject."
   ]
  },
  {
   "cell_type": "code",
   "execution_count": 11,
   "metadata": {
    "collapsed": true
   },
   "outputs": [],
   "source": [
    "import pandas as pd\n",
    "import json\n",
    "import elasticsearch\n",
    "from matplotlib import pyplot as plt\n",
    "import collections\n",
    "import numpy as np\n",
    "%matplotlib inline\n",
    "\n",
    "# Import the data. This notebook uses csv files that Gianfranco processed.\n",
    "# In the processed files, the responses to Q145 are in the same format as Q129.\n",
    "dfU = pd.read_csv('processed_data/UgandaClean.mapped.Q145_fixed.csv')\n",
    "dfK = pd.read_csv('processed_data/KenyaClean.mapped.Q145_fixed.csv')\n",
    "\n",
    "countryData = {\n",
    "    \"Kenya\": dfK,\n",
    "    \"Uganda\": dfU\n",
    "}\n",
    "\n",
    "SUBJECT_COLUMN = \"SbjNum\"\n",
    "RESPONSE_COLUMN_PREFIX = \"Q145.MostValuableSources.O\""
   ]
  },
  {
   "cell_type": "code",
   "execution_count": 12,
   "metadata": {
    "collapsed": false
   },
   "outputs": [
    {
     "data": {
      "text/plain": [
       "defaultdict(list,\n",
       "            {'broadcast': [5, 9],\n",
       "             'digital': [6, 7, 10],\n",
       "             'experiments': [1],\n",
       "             'print': [8, 14],\n",
       "             'sharing': [2, 12],\n",
       "             'training': [3, 4, 11, 13]})"
      ]
     },
     "execution_count": 12,
     "metadata": {},
     "output_type": "execute_result"
    }
   ],
   "source": [
    "categoryNames = collections.OrderedDict([\n",
    "    (\"experiments\", \"Own experimentation\"),\n",
    "    (\"sharing\", \"Informal sharing\"),\n",
    "    (\"training\", \"Face-to-face training\"),\n",
    "    (\"print\", \"Print media\"),\n",
    "    (\"broadcast\", \"Broadcast media\"),\n",
    "    (\"digital\", \"Digital media\")\n",
    "])\n",
    "\n",
    "codeMapping = {\n",
    "    1: \"experiments\",\n",
    "    2: \"sharing\",\n",
    "    3: \"training\",\n",
    "    4: \"training\",\n",
    "    5: \"broadcast\",\n",
    "    6: \"digital\",\n",
    "    7: \"digital\",\n",
    "    8: \"print\",\n",
    "    9: \"broadcast\",\n",
    "    10: \"digital\",\n",
    "    11: \"training\",\n",
    "    12: \"sharing\",\n",
    "    13: \"training\",\n",
    "    14: \"print\"\n",
    "}\n",
    "\n",
    "categoryCodes = collections.defaultdict(list)\n",
    "for code,category in codeMapping.items():\n",
    "    categoryCodes[category] += [code]\n",
    "categoryCodes"
   ]
  },
  {
   "cell_type": "code",
   "execution_count": 13,
   "metadata": {
    "collapsed": false
   },
   "outputs": [
    {
     "data": {
      "text/html": [
       "<div>\n",
       "<table border=\"1\" class=\"dataframe\">\n",
       "  <thead>\n",
       "    <tr style=\"text-align: right;\">\n",
       "      <th></th>\n",
       "      <th>Kenya</th>\n",
       "      <th>Uganda</th>\n",
       "    </tr>\n",
       "    <tr>\n",
       "      <th>category</th>\n",
       "      <th></th>\n",
       "      <th></th>\n",
       "    </tr>\n",
       "  </thead>\n",
       "  <tbody>\n",
       "    <tr>\n",
       "      <th>Own experimentation</th>\n",
       "      <td>0.312195</td>\n",
       "      <td>0.472131</td>\n",
       "    </tr>\n",
       "    <tr>\n",
       "      <th>Informal sharing</th>\n",
       "      <td>0.380488</td>\n",
       "      <td>0.504918</td>\n",
       "    </tr>\n",
       "    <tr>\n",
       "      <th>Face-to-face training</th>\n",
       "      <td>0.604878</td>\n",
       "      <td>0.691803</td>\n",
       "    </tr>\n",
       "    <tr>\n",
       "      <th>Print media</th>\n",
       "      <td>0.165854</td>\n",
       "      <td>0.078689</td>\n",
       "    </tr>\n",
       "    <tr>\n",
       "      <th>Broadcast media</th>\n",
       "      <td>0.604878</td>\n",
       "      <td>0.383607</td>\n",
       "    </tr>\n",
       "    <tr>\n",
       "      <th>Digital media</th>\n",
       "      <td>0.136585</td>\n",
       "      <td>0.052459</td>\n",
       "    </tr>\n",
       "  </tbody>\n",
       "</table>\n",
       "</div>"
      ],
      "text/plain": [
       "                          Kenya    Uganda\n",
       "category                                 \n",
       "Own experimentation    0.312195  0.472131\n",
       "Informal sharing       0.380488  0.504918\n",
       "Face-to-face training  0.604878  0.691803\n",
       "Print media            0.165854  0.078689\n",
       "Broadcast media        0.604878  0.383607\n",
       "Digital media          0.136585  0.052459"
      ]
     },
     "execution_count": 13,
     "metadata": {},
     "output_type": "execute_result"
    }
   ],
   "source": [
    "def getColumn(df, code, prefix = RESPONSE_COLUMN_PREFIX):\n",
    "    return df[prefix + str(code)].values\n",
    "\n",
    "def categoryColumn(category, country):\n",
    "    df = countryData[country]\n",
    "    codes = categoryCodes[category]\n",
    "    matched_any = np.zeros_like(getColumn(df,1))\n",
    "    for code in codes:\n",
    "        matched_any = np.logical_or(matched_any, getColumn(df,code)==1)\n",
    "    return map(int, matched_any)\n",
    "\n",
    "def proportionHavingCategory(category, country):\n",
    "    return np.mean(categoryColumn(category, country))\n",
    "\n",
    "results = []\n",
    "for category in categoryNames:\n",
    "    results.append(dict(\n",
    "        category = categoryNames[category],\n",
    "        Kenya = proportionHavingCategory(category,\"Kenya\"),\n",
    "        Uganda = proportionHavingCategory(category,\"Uganda\")\n",
    "    ))\n",
    "\n",
    "res_df = pd.DataFrame(results)\n",
    "res_df = res_df.set_index(\"category\")\n",
    "res_df"
   ]
  },
  {
   "cell_type": "code",
   "execution_count": 14,
   "metadata": {
    "collapsed": false
   },
   "outputs": [
    {
     "data": {
      "image/png": "[encoded data removed]",
      "text/plain": [
       "<matplotlib.figure.Figure at 0x1089f6a50>"
      ]
     },
     "metadata": {},
     "output_type": "display_data"
    }
   ],
   "source": [
    "res_df.plot(kind=\"bar\", grid=\"on\")\n",
    "plt.ylim(0,1)\n",
    "plt.ylabel(\"proportion of respondents\")\n",
    "plt.xlabel(\"information source\");"
   ]
  },
  {
   "cell_type": "code",
   "execution_count": 15,
   "metadata": {
    "collapsed": true
   },
   "outputs": [],
   "source": [
    "def summarizeInfoSource(digital, inPerson):\n",
    "    summary = []\n",
    "    for d,p in zip(digital, inPerson):\n",
    "        if d and p:\n",
    "            summary.append(\"both\")\n",
    "        elif d:\n",
    "            summary.append(\"digital\")\n",
    "        elif p:\n",
    "            summary.append(\"in-person\")\n",
    "        else:\n",
    "            summary.append(\"neither\")\n",
    "    return summary\n",
    "    \n",
    "outData = []\n",
    "for country,df in countryData.items():\n",
    "    countryOutData = {\n",
    "        SUBJECT_COLUMN: df[SUBJECT_COLUMN].values,\n",
    "    }\n",
    "    for category in categoryNames:\n",
    "        countryOutData[category] = categoryColumn(category, country)\n",
    "    countryOutData[\"country\"] = country\n",
    "    countryOutData[\"summary\"] = summarizeInfoSource(countryOutData[\"digital\"], countryOutData[\"training\"])\n",
    "    countryOutData[\"satisfaction\"] = df[\"Q128.SatisfactionSupportInformation\"].values\n",
    "    outData.append(pd.DataFrame(\n",
    "            countryOutData,\n",
    "            index=df[SUBJECT_COLUMN].values,\n",
    "            columns=[\"SbjNum\",\"country\"] + list(categoryNames.keys()) + [\"summary\",\"satisfaction\"]))\n",
    "outData = pd.concat(outData)\n",
    "outData.to_csv(\"processed_data/Q145InformationSatisfaction.csv\", index=False)"
   ]
  }
 ],
 "metadata": {
  "kernelspec": {
   "display_name": "Python 2",
   "language": "python",
   "name": "python2"
  },
  "language_info": {
   "codemirror_mode": {
    "name": "ipython",
    "version": 2
   },
   "file_extension": ".py",
   "mimetype": "text/x-python",
   "name": "python",
   "nbconvert_exporter": "python",
   "pygments_lexer": "ipython2",
   "version": "2.7.11"
  }
 },
 "nbformat": 4,
 "nbformat_minor": 0
}
