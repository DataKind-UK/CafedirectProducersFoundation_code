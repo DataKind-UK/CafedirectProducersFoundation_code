{
 "cells": [
  {
   "cell_type": "markdown",
   "metadata": {},
   "source": [
    "# Survey quality analysis\n",
    "\n",
    "1. for each row, count the number of -2 or na entries\n",
    "2. do a global average of -2s\n",
    "3. do global averages of a) survey duration and b) last date - first survey date\n",
    "4. split the above by surveyor / country, etc"
   ]
  },
  {
   "cell_type": "code",
   "execution_count": 71,
   "metadata": {
    "collapsed": false
   },
   "outputs": [],
   "source": [
    "%matplotlib inline\n",
    "\n",
    "import csv\n",
    "import pandas as pd\n",
    "import numpy as np\n",
    "import matplotlib.pyplot as plt\n",
    "from collections import Counter \n",
    "from __future__ import division\n",
    "import time\n",
    "import datetime"
   ]
  },
  {
   "cell_type": "code",
   "execution_count": 38,
   "metadata": {
    "collapsed": false
   },
   "outputs": [],
   "source": [
    "uganda = pd.read_csv('Uganda.Clean.csv')\n",
    "kenya = pd.read_csv('Kenya.Clean.csv')"
   ]
  },
  {
   "cell_type": "code",
   "execution_count": null,
   "metadata": {
    "collapsed": false
   },
   "outputs": [],
   "source": [
    "surveyors = uganda['Srvyr']\n",
    "surveyors\n",
    "\n",
    "c = Counter(surveyors)\n",
    "\n",
    "items = c.items()\n",
    "sorted_items = sorted(items, key=lambda i: i[1])\n",
    "\n",
    "bar_heights = [h for _, h in sorted_items]\n",
    "bar_heights\n",
    "\n",
    "labels = [l for l, _ in items]\n",
    "labels"
   ]
  },
  {
   "cell_type": "code",
   "execution_count": null,
   "metadata": {
    "collapsed": false
   },
   "outputs": [],
   "source": [
    "xs = [i + 0.1 for i, _ in enumerate(bar_heights)]\n",
    "plt.bar(xs, bar_heights)\n",
    "plt.xticks([i + 0.5 for i, _ in enumerate(sorted_items)], labels)\n",
    "plt.show()"
   ]
  },
  {
   "cell_type": "code",
   "execution_count": null,
   "metadata": {
    "collapsed": false
   },
   "outputs": [],
   "source": [
    "pd.unique(kenya['Q3.CoopSociety'])"
   ]
  },
  {
   "cell_type": "code",
   "execution_count": null,
   "metadata": {
    "collapsed": false
   },
   "outputs": [],
   "source": [
    "pd.unique(uganda['Q3.CoopSociety'])"
   ]
  },
  {
   "cell_type": "code",
   "execution_count": 141,
   "metadata": {
    "collapsed": false
   },
   "outputs": [
    {
     "name": "stdout",
     "output_type": "stream",
     "text": [
      "83%\n",
      "0.75723830735\n",
      "0.05    0.779510\n",
      "0.25    0.804009\n",
      "0.50    0.826281\n",
      "0.75    0.848552\n",
      "0.95    0.881514\n",
      "Name: Quality, dtype: float64\n",
      "0.737068965517\n",
      "81%\n",
      "0.05    0.767672\n",
      "0.25    0.788793\n",
      "0.50    0.808190\n",
      "0.75    0.829741\n",
      "0.95    0.855603\n",
      "Name: Quality, dtype: float64\n"
     ]
    }
   ],
   "source": [
    "def count_null_values(row):\n",
    "    nulls = [1 for c in row if c == -2]\n",
    "    non_nulls = [1 for c in row if c != -2]\n",
    "    bad, good, total = len(nulls), len(non_nulls), len(nulls) + len(non_nulls)\n",
    "    return good / total\n",
    "\n",
    "kenya['Quality'] = kenya.apply(lambda row: count_null_values(row), axis = 1)\n",
    "uganda['Quality'] = uganda.apply(lambda row: count_null_values(row), axis = 1)\n",
    "\n",
    "kenya_qual = kenya['Quality']\n",
    "uganda_qual = uganda['Quality']\n",
    "\n",
    "print \"{:.0%}\".format((kenya_qual).mean())\n",
    "print kenya_qual.min()\n",
    "print(kenya_qual.quantile([0.05, 0.25, 0.5, 0.75, 0.95]))\n",
    "print uganda_qual.min()\n",
    "print \"{:.0%}\".format((uganda_qual).mean())\n",
    "print(uganda_qual.quantile([0.05, 0.25, 0.5, 0.75, 0.95]))\n"
   ]
  },
  {
   "cell_type": "code",
   "execution_count": 143,
   "metadata": {
    "collapsed": false
   },
   "outputs": [
    {
     "name": "stdout",
     "output_type": "stream",
     "text": [
      "          DurationInMinutes   Quality\n",
      "Srvyr                                \n",
      "Milcah           118.843229  0.828786\n",
      "Boaz              89.076829  0.835244\n",
      "Kiprotik          49.726344  0.840829\n",
      "Dismal            45.334028  0.821455\n",
      "Gilbert           29.094565  0.804832\n",
      "          DurationInMinutes\n",
      "Srvyr                      \n",
      "Milcah          3802.983333\n",
      "Boaz            3652.150000\n",
      "Kiprotik        3083.033333\n",
      "Gilbert         1338.350000\n",
      "Dismal          1088.016667\n",
      "11.9666666667\n",
      "63.2416260163\n",
      "1641.2\n",
      "0.05     18.096667\n",
      "0.25     25.150000\n",
      "0.50     36.416667\n",
      "0.75     57.016667\n",
      "0.95    169.413333\n",
      "Name: DurationInMinutes, dtype: float64\n"
     ]
    },
    {
     "name": "stderr",
     "output_type": "stream",
     "text": [
      "C:\\Users\\iago\\Miniconda2\\lib\\site-packages\\ipykernel\\__main__.py:13: FutureWarning: sort(columns=....) is deprecated, use sort_values(by=.....)\n",
      "C:\\Users\\iago\\Miniconda2\\lib\\site-packages\\ipykernel\\__main__.py:14: FutureWarning: sort(columns=....) is deprecated, use sort_values(by=.....)\n"
     ]
    }
   ],
   "source": [
    "def convert_to_hours(duration):\n",
    "    try:\n",
    "        x = time.strptime(duration[4:], '%H:%M:%S')\n",
    "        days = float(duration[0:1])\n",
    "        return (datetime.timedelta(hours=x.tm_hour,minutes=x.tm_min,seconds=x.tm_sec).total_seconds() / 60) + (days * 24 * 60)\n",
    "    except:\n",
    "        pass\n",
    "    return 0\n",
    "\n",
    "kenya['DurationInMinutes'] = kenya['Duration'].apply((lambda r: convert_to_hours(r)))\n",
    "durations = kenya['DurationInMinutes']\n",
    "\n",
    "print (kenya.groupby(['Srvyr']))[['Srvyr', 'DurationInMinutes', 'Quality']].aggregate(np.mean).sort('DurationInMinutes', ascending=False)\n",
    "print (kenya.groupby(['Srvyr']))[['Srvyr', 'DurationInMinutes']].aggregate(np.sum).sort('DurationInMinutes', ascending=False)\n",
    "\n",
    "print durations.min()\n",
    "print durations.mean()\n",
    "print durations.max()\n",
    "print(durations.quantile([0.05, 0.25, 0.5, 0.75, 0.95]))"
   ]
  },
  {
   "cell_type": "code",
   "execution_count": 144,
   "metadata": {
    "collapsed": false,
    "scrolled": true
   },
   "outputs": [
    {
     "name": "stdout",
     "output_type": "stream",
     "text": [
      "0.0\n",
      "73.540273224\n",
      "562.383333333\n",
      "0.05     18.326667\n",
      "0.25     29.166667\n",
      "0.50     37.600000\n",
      "0.75     57.966667\n",
      "0.95    345.543333\n",
      "Name: DurationInMinutes, dtype: float64\n",
      "           DurationInMinutes   Quality\n",
      "Srvyr                                 \n",
      "Doreen            158.733333  0.779297\n",
      "Joan              143.320588  0.820677\n",
      "Linda              73.824775  0.788560\n",
      "Sunday1            65.227037  0.795642\n",
      "Peter              47.232937  0.836669\n",
      "Charlotte          43.941667  0.800306\n",
      "Alex               41.291270  0.846983\n",
      "Destiny            40.653810  0.813177\n",
      "           DurationInMinutes\n",
      "Srvyr                       \n",
      "Doreen           5079.466667\n",
      "Joan             4872.900000\n",
      "Sunday1          2935.216667\n",
      "Linda            2731.516667\n",
      "Peter            1983.783333\n",
      "Alex             1734.233333\n",
      "Charlotte        1669.783333\n",
      "Destiny          1422.883333\n"
     ]
    },
    {
     "name": "stderr",
     "output_type": "stream",
     "text": [
      "C:\\Users\\iago\\Miniconda2\\lib\\site-packages\\ipykernel\\__main__.py:10: FutureWarning: sort(columns=....) is deprecated, use sort_values(by=.....)\n",
      "C:\\Users\\iago\\Miniconda2\\lib\\site-packages\\ipykernel\\__main__.py:11: FutureWarning: sort(columns=....) is deprecated, use sort_values(by=.....)\n"
     ]
    }
   ],
   "source": [
    "uganda['DurationInMinutes']= uganda['Duration'].apply(lambda r: convert_to_hours(r) )\n",
    "durations = uganda['DurationInMinutes']\n",
    "\n",
    "print durations.min()\n",
    "print durations.mean()\n",
    "print durations.max()\n",
    "print(durations.quantile([0.05, 0.25, 0.5, 0.75, 0.95]))\n",
    "\n",
    "\n",
    "print (uganda.groupby(['Srvyr']))[['Srvyr', 'DurationInMinutes', 'Quality']].aggregate(np.mean).sort('DurationInMinutes', ascending=False)\n",
    "print (uganda.groupby(['Srvyr']))[['Srvyr', 'DurationInMinutes']].aggregate(np.sum).sort('DurationInMinutes', ascending=False)\n",
    "\n",
    "\n",
    "\n",
    "#>>> x = time.strptime('00:01:00,000'.split(',')[0],'%H:%M:%S')\n",
    "#>>> datetime.timedelta(hours=x.tm_hour,minutes=x.tm_min,seconds=x.tm_sec).total_seconds()"
   ]
  },
  {
   "cell_type": "code",
   "execution_count": null,
   "metadata": {
    "collapsed": true
   },
   "outputs": [],
   "source": []
  }
 ],
 "metadata": {
  "kernelspec": {
   "display_name": "Python 2",
   "language": "python",
   "name": "python2"
  },
  "language_info": {
   "codemirror_mode": {
    "name": "ipython",
    "version": 2
   },
   "file_extension": ".py",
   "mimetype": "text/x-python",
   "name": "python",
   "nbconvert_exporter": "python",
   "pygments_lexer": "ipython2",
   "version": "2.7.11"
  }
 },
 "nbformat": 4,
 "nbformat_minor": 0
}
