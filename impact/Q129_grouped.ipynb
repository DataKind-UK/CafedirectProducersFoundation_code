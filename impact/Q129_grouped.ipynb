{
 "cells": [
  {
   "cell_type": "markdown",
   "metadata": {},
   "source": [
    "### Grouping information sources into categories\n",
    "\n",
    "Question 129 listed 17 information sources, and correspondents could check however many they used.\n",
    "\n",
    "We decided to group the 17 information sources into 6 categories, to reduce the number of dimensions of the answer and make the data easier to analyse and present. This notebook processes the data from Question 129, makes a plot of results, and outputs a spreadsheet with the categorised responses for each subject."
   ]
  },
  {
   "cell_type": "code",
   "execution_count": 1,
   "metadata": {
    "collapsed": true
   },
   "outputs": [],
   "source": [
    "import pandas as pd\n",
    "import json\n",
    "from matplotlib import pyplot as plt\n",
    "import collections\n",
    "import numpy as np\n",
    "%matplotlib inline\n",
    "\n",
    "# Load data from files\n",
    "dfU = pd.read_csv('source-data-aka-usb-stick/UgandaClean.mapped.csv')\n",
    "dfK = pd.read_csv('source-data-aka-usb-stick/KenyaClean.mapped.csv')\n",
    "countryData = {\n",
    "    \"Kenya\": dfK,\n",
    "    \"Uganda\": dfU\n",
    "}\n",
    "\n",
    "# Column name containing respondent IDs\n",
    "SUBJECT_COLUMN = \"SbjNum\"\n",
    "RESPONSE_COLUMN_PREFIX = \"Q129.InformationFromWhere.O\""
   ]
  },
  {
   "cell_type": "code",
   "execution_count": 2,
   "metadata": {
    "collapsed": false
   },
   "outputs": [],
   "source": [
    "# This section defines the 6 categories\n",
    "# Each category has a name\n",
    "categoryNames = collections.OrderedDict([\n",
    "    (\"experiments\", \"Own experimentation\"),\n",
    "    (\"sharing\", \"Informal sharing\"),\n",
    "    (\"training\", \"Face-to-face training\"),\n",
    "    (\"print\", \"Print media\"),\n",
    "    (\"broadcast\", \"Broadcast media\"),\n",
    "    (\"digital\", \"Digital media\")\n",
    "])\n",
    "\n",
    "# Each answer code maps to one category\n",
    "codeMapping = {\n",
    "    1: \"experiments\",\n",
    "    2: \"sharing\",\n",
    "    3: \"training\",\n",
    "    4: \"training\",\n",
    "    5: \"training\",\n",
    "    6: \"broadcast\",\n",
    "    7: \"digital\",\n",
    "    8: \"digital\",\n",
    "    9: \"print\",\n",
    "    10: \"broadcast\",\n",
    "    11: \"digital\",\n",
    "    12: \"training\",\n",
    "    13: \"sharing\",\n",
    "    14: \"sharing\",\n",
    "    15: \"sharing\",\n",
    "    16: \"training\",\n",
    "    17: \"print\"\n",
    "}\n",
    "\n",
    "# Each category maps to a list of one or more answer codes\n",
    "categoryCodes = collections.defaultdict(list)\n",
    "for code,category in codeMapping.items():\n",
    "    categoryCodes[category] += [code]"
   ]
  },
  {
   "cell_type": "markdown",
   "metadata": {},
   "source": [
    "### Which categories of information did respondents use, across the two countries?\n",
    "\n",
    "The following code finds the proportion of respondents in each country who got information from each category. Each respondent can get information from more than one categories, so the proportions add up to more than 1."
   ]
  },
  {
   "cell_type": "code",
   "execution_count": 3,
   "metadata": {
    "collapsed": false
   },
   "outputs": [
    {
     "data": {
      "text/html": [
       "<div>\n",
       "<table border=\"1\" class=\"dataframe\">\n",
       "  <thead>\n",
       "    <tr style=\"text-align: right;\">\n",
       "      <th></th>\n",
       "      <th>Kenya</th>\n",
       "      <th>Uganda</th>\n",
       "    </tr>\n",
       "    <tr>\n",
       "      <th>category</th>\n",
       "      <th></th>\n",
       "      <th></th>\n",
       "    </tr>\n",
       "  </thead>\n",
       "  <tbody>\n",
       "    <tr>\n",
       "      <th>Own experimentation</th>\n",
       "      <td>0.643902</td>\n",
       "      <td>0.527869</td>\n",
       "    </tr>\n",
       "    <tr>\n",
       "      <th>Informal sharing</th>\n",
       "      <td>0.624390</td>\n",
       "      <td>0.619672</td>\n",
       "    </tr>\n",
       "    <tr>\n",
       "      <th>Face-to-face training</th>\n",
       "      <td>0.668293</td>\n",
       "      <td>0.675410</td>\n",
       "    </tr>\n",
       "    <tr>\n",
       "      <th>Print media</th>\n",
       "      <td>0.209756</td>\n",
       "      <td>0.144262</td>\n",
       "    </tr>\n",
       "    <tr>\n",
       "      <th>Broadcast media</th>\n",
       "      <td>0.736585</td>\n",
       "      <td>0.442623</td>\n",
       "    </tr>\n",
       "    <tr>\n",
       "      <th>Digital media</th>\n",
       "      <td>0.165854</td>\n",
       "      <td>0.059016</td>\n",
       "    </tr>\n",
       "  </tbody>\n",
       "</table>\n",
       "</div>"
      ],
      "text/plain": [
       "                          Kenya    Uganda\n",
       "category                                 \n",
       "Own experimentation    0.643902  0.527869\n",
       "Informal sharing       0.624390  0.619672\n",
       "Face-to-face training  0.668293  0.675410\n",
       "Print media            0.209756  0.144262\n",
       "Broadcast media        0.736585  0.442623\n",
       "Digital media          0.165854  0.059016"
      ]
     },
     "execution_count": 3,
     "metadata": {},
     "output_type": "execute_result"
    }
   ],
   "source": [
    "def getColumn(df, code, prefix = RESPONSE_COLUMN_PREFIX):\n",
    "    return df[prefix + str(code)].values\n",
    "\n",
    "def categoryColumn(category, country):\n",
    "    df = countryData[country]\n",
    "    codes = categoryCodes[category]\n",
    "    matched_any = np.zeros_like(getColumn(df,1))\n",
    "    for code in codes:\n",
    "        matched_any = np.logical_or(matched_any, getColumn(df,code)==1)\n",
    "    return map(int, matched_any)\n",
    "\n",
    "def proportionHavingCategory(category, country):\n",
    "    return np.mean(categoryColumn(category, country))\n",
    "\n",
    "results = []\n",
    "for category in categoryNames:\n",
    "    results.append(dict(\n",
    "        category = categoryNames[category],\n",
    "        Kenya = proportionHavingCategory(category,\"Kenya\"),\n",
    "        Uganda = proportionHavingCategory(category,\"Uganda\")\n",
    "    ))\n",
    "    \n",
    "res_df = pd.DataFrame(results)\n",
    "res_df = res_df.set_index(\"category\")\n",
    "res_df"
   ]
  },
  {
   "cell_type": "code",
   "execution_count": 4,
   "metadata": {
    "collapsed": false
   },
   "outputs": [
    {
     "data": {
      "image/png": "[encoded data removed]",
      "text/plain": [
       "<matplotlib.figure.Figure at 0x107ede190>"
      ]
     },
     "metadata": {},
     "output_type": "display_data"
    }
   ],
   "source": [
    "res_df.plot(kind=\"bar\", grid=\"on\")\n",
    "plt.ylim(0,1)\n",
    "plt.ylabel(\"proportion of respondents\")\n",
    "plt.xlabel(\"information source\");"
   ]
  },
  {
   "cell_type": "markdown",
   "metadata": {},
   "source": [
    "### Output the categorized responses for further analysis\n",
    "\n",
    "The following code produces a new spreadsheet with a row for each subject, whith data from both countries combined. There is one column for each category, with a 1 if the subject used that category of information source, or a 0 otherwise.\n",
    "\n",
    "Because CDPF are particularly interested in the effects of in-person training vs digital support, there is a \"summary\" column with four possible values, indicating whether the respondent used digital support, in-person training, both, or neither."
   ]
  },
  {
   "cell_type": "code",
   "execution_count": 5,
   "metadata": {
    "collapsed": false
   },
   "outputs": [
    {
     "name": "stdout",
     "output_type": "stream",
     "text": [
      "summary\n",
      "both          29\n",
      "digital       23\n",
      "in-person    314\n",
      "neither      144\n",
      "Name: country, dtype: int64\n"
     ]
    }
   ],
   "source": [
    "def summarizeInfoSource(digital, inPerson):\n",
    "    summary = []\n",
    "    for d,p in zip(digital, inPerson):\n",
    "        if d and p:\n",
    "            summary.append(\"both\")\n",
    "        elif d:\n",
    "            summary.append(\"digital\")\n",
    "        elif p:\n",
    "            summary.append(\"in-person\")\n",
    "        else:\n",
    "            summary.append(\"neither\")\n",
    "    return summary\n",
    "    \n",
    "outData = []\n",
    "for country,df in countryData.items():\n",
    "    countryOutData = {\n",
    "        SUBJECT_COLUMN: df[SUBJECT_COLUMN].values,\n",
    "    }\n",
    "    for category in categoryNames:\n",
    "        countryOutData[category] = categoryColumn(category, country)\n",
    "    countryOutData[\"country\"] = country\n",
    "    countryOutData[\"summary\"] = summarizeInfoSource(\n",
    "        countryOutData[\"digital\"],\n",
    "        countryOutData[\"training\"])\n",
    "    countryOutData[\"satisfaction\"] = df[\"Q128.SatisfactionSupportInformation\"].values\n",
    "    outData.append(pd.DataFrame(\n",
    "            countryOutData,\n",
    "            index=df[SUBJECT_COLUMN].values,\n",
    "            columns=[\"SbjNum\",\"country\"] + list(categoryNames.keys()) + [\"summary\",\"satisfaction\"]))\n",
    "outData = pd.concat(outData)\n",
    "outData.to_csv(\"processed_data/Q129InformationSources.csv\", index=False)\n",
    "\n",
    "# Print counts of how many subjects fell into each category of the \"summary\" column\n",
    "print(outData.groupby(\"summary\").count().country)"
   ]
  }
 ],
 "metadata": {
  "kernelspec": {
   "display_name": "Python 2",
   "language": "python",
   "name": "python2"
  },
  "language_info": {
   "codemirror_mode": {
    "name": "ipython",
    "version": 2
   },
   "file_extension": ".py",
   "mimetype": "text/x-python",
   "name": "python",
   "nbconvert_exporter": "python",
   "pygments_lexer": "ipython2",
   "version": "2.7.11"
  }
 },
 "nbformat": 4,
 "nbformat_minor": 0
}
